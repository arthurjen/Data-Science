{
 "cells": [
  {
   "cell_type": "code",
   "execution_count": 3,
   "metadata": {},
   "outputs": [
    {
     "name": "stdout",
     "output_type": "stream",
     "text": [
      "./allfiles.tar.gz\n",
      "./images.tar.gz\n",
      "./opt_utils.py\n",
      "./testCases.py\n",
      "./Untitled.ipynb\n",
      "./datasets.tar.gz\n",
      "./__pycache__.tar.gz\n",
      "./hw.tar.gz\n",
      "./Optimization methods.ipynb\n"
     ]
    },
    {
     "name": "stderr",
     "output_type": "stream",
     "text": [
      "tar: ./hw.tar.gz: file changed as we read it\n"
     ]
    }
   ],
   "source": [
    "%%bash\n",
    "for dir in */\n",
    "do\n",
    "  base=$(basename \"$dir\")\n",
    "  tar -czf \"${base}.tar.gz\" \"$dir\"\n",
    "done\n",
    "find . -maxdepth 1 -type f -exec tar cvfz hw.tar.gz {} +"
   ]
  },
  {
   "cell_type": "code",
   "execution_count": null,
   "metadata": {
    "collapsed": true
   },
   "outputs": [],
   "source": []
  }
 ],
 "metadata": {
  "kernelspec": {
   "display_name": "Python 3",
   "language": "python",
   "name": "python3"
  },
  "language_info": {
   "codemirror_mode": {
    "name": "ipython",
    "version": 3
   },
   "file_extension": ".py",
   "mimetype": "text/x-python",
   "name": "python",
   "nbconvert_exporter": "python",
   "pygments_lexer": "ipython3",
   "version": "3.6.0"
  }
 },
 "nbformat": 4,
 "nbformat_minor": 2
}
